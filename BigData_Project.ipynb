{
 "cells": [
  {
   "cell_type": "markdown",
   "id": "85ac3453",
   "metadata": {},
   "source": [
    "# Customer Data from Kaggle - Classification"
   ]
  },
  {
   "cell_type": "markdown",
   "id": "e57f8b91",
   "metadata": {},
   "source": [
    "First part of is data analyzing,data cleaning and data manipulation"
   ]
  },
  {
   "cell_type": "code",
   "execution_count": null,
   "id": "305e0255",
   "metadata": {},
   "outputs": [],
   "source": [
    "import pandas as pd\n",
    "import numpy as np\n",
    "import matplotlib.pyplot as plt"
   ]
  },
  {
   "cell_type": "code",
   "execution_count": null,
   "id": "9c22d6ff",
   "metadata": {},
   "outputs": [],
   "source": [
    "data = pd.read_csv(\"customer_new.csv\")"
   ]
  },
  {
   "cell_type": "code",
   "execution_count": null,
   "id": "5ec56bbd",
   "metadata": {},
   "outputs": [],
   "source": [
    "data.head()"
   ]
  },
  {
   "cell_type": "code",
   "execution_count": null,
   "id": "f0b8d169",
   "metadata": {},
   "outputs": [],
   "source": [
    "data.describe()"
   ]
  },
  {
   "cell_type": "code",
   "execution_count": null,
   "id": "c3e29dd8",
   "metadata": {},
   "outputs": [],
   "source": [
    "data.info()"
   ]
  },
  {
   "cell_type": "markdown",
   "id": "2076aa98",
   "metadata": {},
   "source": [
    "Let's see the total number of records by Spending Score with Bar Plot"
   ]
  },
  {
   "cell_type": "code",
   "execution_count": null,
   "id": "195463ac",
   "metadata": {},
   "outputs": [],
   "source": [
    "data[\"Spending_Score\"].value_counts(sort= False).plot.bar()"
   ]
  },
  {
   "cell_type": "code",
   "execution_count": null,
   "id": "0b9e9331",
   "metadata": {},
   "outputs": [],
   "source": [
    "Data = data.dropna(subset = [\"Profession\"])"
   ]
  },
  {
   "cell_type": "code",
   "execution_count": null,
   "id": "d6bd7690",
   "metadata": {},
   "outputs": [],
   "source": [
    "Data.info()"
   ]
  },
  {
   "cell_type": "code",
   "execution_count": null,
   "id": "998218c8",
   "metadata": {},
   "outputs": [],
   "source": [
    "print(Data[\"Profession\"].unique())"
   ]
  },
  {
   "cell_type": "code",
   "execution_count": null,
   "id": "92e6119f",
   "metadata": {},
   "outputs": [],
   "source": [
    "Data.head()"
   ]
  },
  {
   "cell_type": "code",
   "execution_count": null,
   "id": "a5aec849",
   "metadata": {},
   "outputs": [],
   "source": [
    "Data = data.drop(columns = [\"Var_1\",\"ID\",\"Segmentation\"])"
   ]
  },
  {
   "cell_type": "code",
   "execution_count": null,
   "id": "5c7a7674",
   "metadata": {
    "scrolled": true
   },
   "outputs": [],
   "source": [
    "Data.head()"
   ]
  },
  {
   "cell_type": "code",
   "execution_count": null,
   "id": "669c2488",
   "metadata": {},
   "outputs": [],
   "source": [
    "Data.info()"
   ]
  },
  {
   "cell_type": "code",
   "execution_count": null,
   "id": "405ce65f",
   "metadata": {},
   "outputs": [],
   "source": [
    "Data = Data.reindex(columns = [\"Gender\",\"Age\",\"Graduated\",\"Work_Experience\",\"Profession\",\"Ever_Married\",\"Family_Size\",\"Spending_Score\"])\n",
    "Data.head()"
   ]
  },
  {
   "cell_type": "code",
   "execution_count": null,
   "id": "876d71fb",
   "metadata": {},
   "outputs": [],
   "source": [
    "Data[\"Gender\"] =Data[\"Gender\"].map({\"Female\":1,\"Male\":0})\n",
    "Data[\"Ever_Married\"] = Data[\"Ever_Married\"].map({\"Yes\":1,\"No\":0})\n",
    "Data[\"Graduated\"] = Data[\"Graduated\"].map({\"Yes\":1,\"No\":0})"
   ]
  },
  {
   "cell_type": "code",
   "execution_count": null,
   "id": "e33e1031",
   "metadata": {},
   "outputs": [],
   "source": [
    "Data.head()"
   ]
  },
  {
   "cell_type": "code",
   "execution_count": null,
   "id": "40a4c6bd",
   "metadata": {},
   "outputs": [],
   "source": [
    "Data.info()"
   ]
  },
  {
   "cell_type": "code",
   "execution_count": null,
   "id": "ef9f2d1d",
   "metadata": {},
   "outputs": [],
   "source": [
    "Data.corr()"
   ]
  },
  {
   "cell_type": "code",
   "execution_count": null,
   "id": "aa527e63",
   "metadata": {},
   "outputs": [],
   "source": [
    "Data = Data.fillna(Data.mean())"
   ]
  },
  {
   "cell_type": "code",
   "execution_count": null,
   "id": "c34c2a7d",
   "metadata": {},
   "outputs": [],
   "source": [
    "Data = Data.dropna()"
   ]
  },
  {
   "cell_type": "code",
   "execution_count": null,
   "id": "6ce1005c",
   "metadata": {},
   "outputs": [],
   "source": [
    "Data.info()"
   ]
  },
  {
   "cell_type": "code",
   "execution_count": null,
   "id": "2c7cca10",
   "metadata": {},
   "outputs": [],
   "source": [
    "Data[\"Gender\"] = Data[\"Gender\"].astype(int)\n",
    "Data[\"Ever_Married\"] = Data[\"Ever_Married\"].astype(int)\n",
    "Data[\"Graduated\"] = Data[\"Graduated\"].astype(int)\n",
    "Data[\"Gender\"] = Data[\"Gender\"].astype(int)\n",
    "Data[\"Work_Experience\"] = Data[\"Gender\"].astype(int)\n",
    "Data[\"Family_Size\"] = Data[\"Family_Size\"].astype(int)"
   ]
  },
  {
   "cell_type": "code",
   "execution_count": null,
   "id": "bb58033b",
   "metadata": {},
   "outputs": [],
   "source": [
    "Data.info()"
   ]
  },
  {
   "cell_type": "code",
   "execution_count": null,
   "id": "199b4794",
   "metadata": {},
   "outputs": [],
   "source": [
    "x = Data.iloc[:,:7]\n",
    "x.head()"
   ]
  },
  {
   "cell_type": "code",
   "execution_count": null,
   "id": "e8f2526f",
   "metadata": {},
   "outputs": [],
   "source": [
    "x=pd.get_dummies(x,drop_first=True)\n",
    "x.head()"
   ]
  },
  {
   "cell_type": "code",
   "execution_count": null,
   "id": "045aa0b4",
   "metadata": {
    "scrolled": true
   },
   "outputs": [],
   "source": [
    "y = Data.iloc[:,7]\n",
    "y.head()"
   ]
  },
  {
   "cell_type": "code",
   "execution_count": null,
   "id": "1ff20e13",
   "metadata": {},
   "outputs": [],
   "source": [
    "x[\"Work_Experience\"]=x[\"Work_Experience\"].map(lambda x: 1 if x>8 else 0)"
   ]
  },
  {
   "cell_type": "code",
   "execution_count": null,
   "id": "57144734",
   "metadata": {},
   "outputs": [],
   "source": [
    "x[\"interaction\"]=x[\"Work_Experience\"]*x[\"Family_Size\"]"
   ]
  },
  {
   "cell_type": "code",
   "execution_count": null,
   "id": "b0fbc020",
   "metadata": {},
   "outputs": [],
   "source": [
    "x.head()"
   ]
  },
  {
   "cell_type": "markdown",
   "id": "1f9d8ce8",
   "metadata": {},
   "source": [
    "# Machine Learning Models for Classification Problem"
   ]
  },
  {
   "cell_type": "markdown",
   "id": "1746ff15",
   "metadata": {},
   "source": [
    "With using Support Vector Machine,K-Neighbors Classifier,Logistic Regression,Naive Bayes to see the accuracy results and metrics in this part."
   ]
  },
  {
   "cell_type": "code",
   "execution_count": null,
   "id": "74ba302b",
   "metadata": {},
   "outputs": [],
   "source": [
    "from sklearn.model_selection import train_test_split"
   ]
  },
  {
   "cell_type": "code",
   "execution_count": null,
   "id": "aade93e8",
   "metadata": {},
   "outputs": [],
   "source": [
    "x_train,x_test,y_train,y_test = train_test_split(x,y, test_size = 0.2,random_state=1)"
   ]
  },
  {
   "cell_type": "code",
   "execution_count": null,
   "id": "37947839",
   "metadata": {},
   "outputs": [],
   "source": [
    "len(x_test)"
   ]
  },
  {
   "cell_type": "code",
   "execution_count": null,
   "id": "47cd3e08",
   "metadata": {},
   "outputs": [],
   "source": [
    "len(y_train)"
   ]
  },
  {
   "cell_type": "code",
   "execution_count": null,
   "id": "7190bd23",
   "metadata": {
    "scrolled": true
   },
   "outputs": [],
   "source": [
    "x.head()"
   ]
  },
  {
   "cell_type": "markdown",
   "id": "c808eaa2",
   "metadata": {},
   "source": [
    "Support Vector Machine"
   ]
  },
  {
   "cell_type": "code",
   "execution_count": null,
   "id": "a989e4be",
   "metadata": {},
   "outputs": [],
   "source": [
    "from sklearn import svm"
   ]
  },
  {
   "cell_type": "code",
   "execution_count": null,
   "id": "f51c1ebe",
   "metadata": {},
   "outputs": [],
   "source": [
    "classificationsvm = svm.LinearSVC()"
   ]
  },
  {
   "cell_type": "code",
   "execution_count": null,
   "id": "dd2fe263",
   "metadata": {},
   "outputs": [],
   "source": [
    "classificationsvm.fit(x_train,y_train)"
   ]
  },
  {
   "cell_type": "code",
   "execution_count": null,
   "id": "470b9a0a",
   "metadata": {},
   "outputs": [],
   "source": [
    "classificationsvm.coef_"
   ]
  },
  {
   "cell_type": "code",
   "execution_count": null,
   "id": "0b65aece",
   "metadata": {},
   "outputs": [],
   "source": [
    "predictionssvm = classificationsvm.predict(x_test)"
   ]
  },
  {
   "cell_type": "code",
   "execution_count": null,
   "id": "a43e7562",
   "metadata": {},
   "outputs": [],
   "source": [
    "predictionssvm"
   ]
  },
  {
   "cell_type": "code",
   "execution_count": null,
   "id": "5531d297",
   "metadata": {},
   "outputs": [],
   "source": [
    "for i in range(0,len(y_test)):\n",
    "    print(y_test.iloc[i],predictionssvm[i])"
   ]
  },
  {
   "cell_type": "code",
   "execution_count": null,
   "id": "98865879",
   "metadata": {},
   "outputs": [],
   "source": [
    "classificationsvm.score(x_test,y_test)"
   ]
  },
  {
   "cell_type": "code",
   "execution_count": null,
   "id": "ffe2d43a",
   "metadata": {},
   "outputs": [],
   "source": [
    "from sklearn.metrics import classification_report"
   ]
  },
  {
   "cell_type": "code",
   "execution_count": null,
   "id": "42636787",
   "metadata": {},
   "outputs": [],
   "source": [
    "print(classification_report(y_test,predictionssvm))"
   ]
  },
  {
   "cell_type": "markdown",
   "id": "2cbcac41",
   "metadata": {},
   "source": [
    "Libraries for Plotting Confusion Matrix"
   ]
  },
  {
   "cell_type": "code",
   "execution_count": null,
   "id": "ad17250d",
   "metadata": {},
   "outputs": [],
   "source": [
    "import matplotlib.pyplot as plt\n",
    "from sklearn.metrics import plot_confusion_matrix"
   ]
  },
  {
   "cell_type": "code",
   "execution_count": null,
   "id": "985848b4",
   "metadata": {},
   "outputs": [],
   "source": [
    "plot_confusion_matrix(classificationsvm,x_test,y_test,cmap=plt.cm.BuPu_r)\n",
    "plt.show()"
   ]
  },
  {
   "cell_type": "markdown",
   "id": "da9217f3",
   "metadata": {},
   "source": [
    "K-Neighbors Classifier"
   ]
  },
  {
   "cell_type": "code",
   "execution_count": null,
   "id": "0deb2a53",
   "metadata": {},
   "outputs": [],
   "source": [
    "from sklearn.neighbors import KNeighborsClassifier"
   ]
  },
  {
   "cell_type": "code",
   "execution_count": null,
   "id": "31f55668",
   "metadata": {},
   "outputs": [],
   "source": [
    "classificationk = KNeighborsClassifier(n_neighbors = 5)"
   ]
  },
  {
   "cell_type": "code",
   "execution_count": null,
   "id": "45799674",
   "metadata": {},
   "outputs": [],
   "source": [
    "classificationk.fit(x_train,y_train)"
   ]
  },
  {
   "cell_type": "code",
   "execution_count": null,
   "id": "57bade6c",
   "metadata": {},
   "outputs": [],
   "source": [
    "predictionsk = classificationk.predict(x_test)"
   ]
  },
  {
   "cell_type": "code",
   "execution_count": null,
   "id": "ad44eaa5",
   "metadata": {},
   "outputs": [],
   "source": [
    "print(classification_report(y_test,predictionsk))"
   ]
  },
  {
   "cell_type": "code",
   "execution_count": null,
   "id": "fc2d11e1",
   "metadata": {},
   "outputs": [],
   "source": [
    "plot_confusion_matrix(classificationk,x_test,y_test,cmap=plt.cm.BuPu_r)\n",
    "plt.show()"
   ]
  },
  {
   "cell_type": "markdown",
   "id": "8464f9f4",
   "metadata": {},
   "source": [
    "Logistic Regression Classifier"
   ]
  },
  {
   "cell_type": "code",
   "execution_count": null,
   "id": "dd55929b",
   "metadata": {},
   "outputs": [],
   "source": [
    "from sklearn.linear_model import LogisticRegression"
   ]
  },
  {
   "cell_type": "code",
   "execution_count": null,
   "id": "dbe93008",
   "metadata": {},
   "outputs": [],
   "source": [
    "classificationLR = LogisticRegression()"
   ]
  },
  {
   "cell_type": "code",
   "execution_count": null,
   "id": "1a347c4e",
   "metadata": {},
   "outputs": [],
   "source": [
    "classificationLR.fit(x_train,y_train)"
   ]
  },
  {
   "cell_type": "code",
   "execution_count": null,
   "id": "546ae0f5",
   "metadata": {},
   "outputs": [],
   "source": [
    "predictionsLR = classificationLR.predict(x_test)"
   ]
  },
  {
   "cell_type": "markdown",
   "id": "559a3482",
   "metadata": {},
   "source": [
    "mse = mean_squared_error(y_test,predictionsLR)"
   ]
  },
  {
   "cell_type": "code",
   "execution_count": null,
   "id": "5809cff8",
   "metadata": {},
   "outputs": [],
   "source": [
    "print(classification_report(y_test,predictionsLR))"
   ]
  },
  {
   "cell_type": "code",
   "execution_count": null,
   "id": "b7f94201",
   "metadata": {},
   "outputs": [],
   "source": [
    "score = classificationLR.score(x_test,y_test)"
   ]
  },
  {
   "cell_type": "code",
   "execution_count": null,
   "id": "1d09c400",
   "metadata": {},
   "outputs": [],
   "source": [
    "print(score)"
   ]
  },
  {
   "cell_type": "code",
   "execution_count": null,
   "id": "dfbf7709",
   "metadata": {},
   "outputs": [],
   "source": [
    "plot_confusion_matrix(classificationLR,x_test,y_test,cmap=plt.cm.BuPu_r)\n",
    "plt.show()"
   ]
  },
  {
   "cell_type": "markdown",
   "id": "f0b94bf5",
   "metadata": {},
   "source": [
    "Naive Bayes Classifier"
   ]
  },
  {
   "cell_type": "code",
   "execution_count": null,
   "id": "cf8e0bb8",
   "metadata": {},
   "outputs": [],
   "source": [
    "from sklearn.naive_bayes import GaussianNB"
   ]
  },
  {
   "cell_type": "code",
   "execution_count": null,
   "id": "442adbc2",
   "metadata": {},
   "outputs": [],
   "source": [
    "classificationGB = GaussianNB()"
   ]
  },
  {
   "cell_type": "code",
   "execution_count": null,
   "id": "cbbdb145",
   "metadata": {},
   "outputs": [],
   "source": [
    "classificationGB.fit(x_train,y_train)"
   ]
  },
  {
   "cell_type": "code",
   "execution_count": null,
   "id": "9e0f1bbd",
   "metadata": {},
   "outputs": [],
   "source": [
    "predictionsGB = classificationGB.predict(x_test)"
   ]
  },
  {
   "cell_type": "code",
   "execution_count": null,
   "id": "75438d9a",
   "metadata": {},
   "outputs": [],
   "source": [
    "print(classification_report(y_test,predictionsGB))"
   ]
  },
  {
   "cell_type": "code",
   "execution_count": null,
   "id": "c08eafa0",
   "metadata": {},
   "outputs": [],
   "source": [
    "score2 = classificationGB.score(x_test,y_test)"
   ]
  },
  {
   "cell_type": "code",
   "execution_count": null,
   "id": "b8e0ce61",
   "metadata": {},
   "outputs": [],
   "source": [
    "print(score2)"
   ]
  },
  {
   "cell_type": "code",
   "execution_count": null,
   "id": "fc84cfac",
   "metadata": {},
   "outputs": [],
   "source": [
    "plot_confusion_matrix(classificationGB,x_test,y_test,cmap=plt.cm.Blues)\n",
    "plt.show()"
   ]
  }
 ],
 "metadata": {
  "kernelspec": {
   "display_name": "Python 3 (ipykernel)",
   "language": "python",
   "name": "python3"
  },
  "language_info": {
   "codemirror_mode": {
    "name": "ipython",
    "version": 3
   },
   "file_extension": ".py",
   "mimetype": "text/x-python",
   "name": "python",
   "nbconvert_exporter": "python",
   "pygments_lexer": "ipython3",
   "version": "3.9.13"
  }
 },
 "nbformat": 4,
 "nbformat_minor": 5
}
